{
 "cells": [
  {
   "cell_type": "code",
   "execution_count": 36,
   "metadata": {
    "collapsed": false,
    "scrolled": false
   },
   "outputs": [
    {
     "name": "stderr",
     "output_type": "stream",
     "text": [
      "DEBUG:experiment:got facets. time to filter\n"
     ]
    },
    {
     "name": "stdout",
     "output_type": "stream",
     "text": [
      "query took -1.53921103477\n",
      "facets took -1.60714292526\n",
      "dataframe took -0.00365400314331\n",
      "[0, 0, 0, 2, 1, 0]\n",
      "[1, 1, 0, 0, 0, 3]\n",
      "[0, 0, 0, 2, 0, 2]\n",
      "pd\n",
      "2010    10\n",
      "2011     3\n",
      "2012     3\n",
      "2013    10\n",
      "2014     5\n",
      "2015     6\n",
      "dtype: int64\n"
     ]
    }
   ],
   "source": [
    "%matplotlib inline\n",
    "import pandas as pd\n",
    "import datetime as dt\n",
    "import random\n",
    "import itertools\n",
    "import pdb\n",
    "import time\n",
    "from dateutil.parser import parse\n",
    "from experiment.models import Models, Parameters\n",
    "from experiment.models import get_metadata_file, get_pubdate_index\n",
    "\n",
    "mt = get_metadata_file()\n",
    "p = Parameters()\n",
    "p.q = \"BP\"\n",
    "\n",
    "start_time = time.time()\n",
    "results = Models.get_results(p)\n",
    "print \"query took {}\".format(start_time - time.time())\n",
    "\n",
    "start_time = time.time()\n",
    "facets, aliases = Models.get_facets(p, results, 3)\n",
    "print \"facets took {}\".format(start_time - time.time())\n",
    "\n",
    "metadata = [mt[r] for r in results]\n",
    "q_pubdates = [parse(h[\"pubdate\"]) for h in metadata]\n",
    "\n",
    "pub_index = get_pubdate_index()\n",
    "\n",
    "def make_dataframe(p, facets, results):\n",
    "    start_time = time.time()\n",
    "    df = pd.DataFrame()\n",
    "    df['id'] = results\n",
    "    df['pd'] = q_pubdates\n",
    "    df[p.q] = [1 for i in q_pubdates]\n",
    "    for facet in facets:\n",
    "        alias = [pub_index[a] for a in aliases[facet]]\n",
    "        facet_dates = set([i for i in set([i for i in itertools.chain(*alias)]).union(pub_index[facet])])\n",
    "        gus = [int(p) for p in [p in facet_dates for p in q_pubdates]]\n",
    "        df[facet] = gus\n",
    "    print \"dataframe took {}\".format(start_time - time.time())\n",
    "    return df\n",
    "\n",
    "df = make_dataframe(p, facets, results)\n",
    "df = df.groupby([df['pd'].map(lambda x: x.year)]).sum().unstack(0).fillna(0)\n",
    "\n",
    "for f in facets:\n",
    "    print list(df[f])\n",
    "\n",
    "print df[p.q]"
   ]
  },
  {
   "cell_type": "code",
   "execution_count": 57,
   "metadata": {
    "collapsed": false
   },
   "outputs": [
    {
     "data": {
      "text/plain": [
       "[2010, 2011, 2012, 2013, 2014, 2015]"
      ]
     },
     "execution_count": 57,
     "metadata": {},
     "output_type": "execute_result"
    }
   ],
   "source": [
    "[i for i in df[p.q].axes[0]]"
   ]
  }
 ],
 "metadata": {
  "kernelspec": {
   "display_name": "Python 2",
   "language": "python",
   "name": "python2"
  },
  "language_info": {
   "codemirror_mode": {
    "name": "ipython",
    "version": 2
   },
   "file_extension": ".py",
   "mimetype": "text/x-python",
   "name": "python",
   "nbconvert_exporter": "python",
   "pygments_lexer": "ipython2",
   "version": "2.7.10"
  }
 },
 "nbformat": 4,
 "nbformat_minor": 0
}
