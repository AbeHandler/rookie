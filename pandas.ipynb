{
 "cells": [
  {
   "cell_type": "code",
   "execution_count": 126,
   "metadata": {
    "collapsed": false,
    "scrolled": false
   },
   "outputs": [
    {
     "name": "stderr",
     "output_type": "stream",
     "text": [
      "DEBUG:experiment:got facets. time to filter\n"
     ]
    },
    {
     "name": "stdout",
     "output_type": "stream",
     "text": [
      "query took -1.47689509392\n",
      "facets took -1.3633658886\n",
      "dataframe took -0.0109820365906\n",
      "Department of Justice breakdown took -0.00959897041321\n",
      "{\"2010\":{\"1\":12.0},\"2011\":{\"1\":6.0},\"2012\":{\"1\":7.0},\"2013\":{\"1\":20.0},\"2014\":{\"1\":4.0}}\n",
      "dataframe took -0.00361490249634\n",
      "Marlin Gusman breakdown took -0.00396299362183\n",
      "{\"2010\":{\"1\":31},\"2011\":{\"1\":23},\"2012\":{\"1\":8},\"2013\":{\"1\":20},\"2014\":{\"1\":15},\"2015\":{\"1\":1}}\n",
      "dataframe took -0.0026159286499\n",
      "Orleans Parish Sheriffs Office breakdown took -0.009437084198\n",
      "{\"2010\":{\"1\":5},\"2011\":{\"1\":14},\"2012\":{\"1\":4},\"2013\":{\"1\":17},\"2014\":{\"1\":8},\"2015\":{\"1\":2}}\n"
     ]
    }
   ],
   "source": [
    "%matplotlib inline\n",
    "import pandas as pd\n",
    "import datetime as dt\n",
    "import random\n",
    "import itertools\n",
    "import pdb\n",
    "import time\n",
    "from dateutil.parser import parse\n",
    "from experiment.models import Models, Parameters\n",
    "from experiment.models import get_metadata_file, get_pubdate_index\n",
    "\n",
    "mt = get_metadata_file()\n",
    "p = Parameters()\n",
    "p.q = \"Mitch Landrieu\"\n",
    "\n",
    "start_time = time.time()\n",
    "results = Models.get_results(p)\n",
    "print \"query took {}\".format(start_time - time.time())\n",
    "\n",
    "start_time = time.time()\n",
    "facets, aliases = Models.get_facets(p, results, 3)\n",
    "print \"facets took {}\".format(start_time - time.time())\n",
    "\n",
    "metadata = [mt[r] for r in results]\n",
    "q_pubdates = [parse(h[\"pubdate\"]) for h in metadata]\n",
    "\n",
    "pub_index = get_pubdate_index()\n",
    "\n",
    "def make_dataframe(p, facets, results):\n",
    "    start_time = time.time()\n",
    "    df = pd.DataFrame()\n",
    "    df['id'] = results\n",
    "    df['pd'] = q_pubdates\n",
    "    df[p.q] = [1 for i in q_pubdates]\n",
    "    for facet in facets:\n",
    "        alias = [pub_index[a] for a in aliases[facet]]\n",
    "        facet_dates = set([i for i in set([i for i in itertools.chain(*alias)]).union(pub_index[facet])])\n",
    "        gus = [int(p) for p in [p in facet_dates for p in q_pubdates]]\n",
    "        df[facet] = gus\n",
    "    print \"dataframe took {}\".format(start_time - time.time())\n",
    "    return df\n",
    "\n",
    "def get_breakdown(df, facet):\n",
    "    start_time = time.time()\n",
    "    tmp = df.groupby([df['pd'].map(lambda x: x.year), df[facet]]).sum()\n",
    "    tmp = tmp[tmp[facet] != 0][facet].unstack(0).fillna(0)\n",
    "    print \"breakdown took {}\".format(start_time - time.time())\n",
    "    return tmp.to_json()\n",
    "\n",
    "for f in facets:\n",
    "    df = make_dataframe(p, facets, results)\n",
    "    # print type(f)\n",
    "    print f, get_breakdown(df, f)\n"
   ]
  },
  {
   "cell_type": "code",
   "execution_count": null,
   "metadata": {
    "collapsed": true
   },
   "outputs": [],
   "source": []
  }
 ],
 "metadata": {
  "kernelspec": {
   "display_name": "Python 2",
   "language": "python",
   "name": "python2"
  },
  "language_info": {
   "codemirror_mode": {
    "name": "ipython",
    "version": 2
   },
   "file_extension": ".py",
   "mimetype": "text/x-python",
   "name": "python",
   "nbconvert_exporter": "python",
   "pygments_lexer": "ipython2",
   "version": "2.7.10"
  }
 },
 "nbformat": 4,
 "nbformat_minor": 0
}
