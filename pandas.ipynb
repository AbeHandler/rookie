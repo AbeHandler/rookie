{
 "cells": [
  {
   "cell_type": "code",
   "execution_count": 228,
   "metadata": {
    "collapsed": false,
    "scrolled": false
   },
   "outputs": [
    {
     "name": "stderr",
     "output_type": "stream",
     "text": [
      "DEBUG:experiment:got facets. time to filter\n"
     ]
    }
   ],
   "source": [
    "%matplotlib inline\n",
    "import pandas as pd\n",
    "import datetime as dt\n",
    "import random\n",
    "import pdb\n",
    "from dateutil.parser import parse\n",
    "from experiment.models import Models, Parameters\n",
    "from experiment.models import get_metadata_file, get_pubdate_index\n",
    "\n",
    "mt = get_metadata_file()\n",
    "p = Parameters()\n",
    "p.q = \"Mitch Landrieu\"\n",
    "\n",
    "results = Models.get_results(p)\n",
    "facets, aliases = Models.get_facets(p, results)\n",
    "\n",
    "df = pd.DataFrame()\n",
    "df['id'] = results\n",
    "metadata = [mt[r] for r in results]\n",
    "q_pubdates = [parse(h[\"pubdate\"]) for h in metadata]\n",
    "df['pd'] = q_pubdates\n",
    "df['landrieu'] = [1 for i in q_pubdates]\n",
    "\n",
    "pub_index = get_pubdate_index()\n",
    "\n",
    "# df = df.groupby(lambda x: df['date'][x].year).sum()\n",
    "# df = df.groupby([\"cat\", pd.Grouper(freq='1y',key='date')]).sum()\n"
   ]
  },
  {
   "cell_type": "code",
   "execution_count": 235,
   "metadata": {
    "collapsed": false
   },
   "outputs": [
    {
     "name": "stdout",
     "output_type": "stream",
     "text": [
      "       id         pd  landrieu  gus\n",
      "0    2142 2010-02-09         0    0\n",
      "1    1668 2013-06-03         0    0\n",
      "2    1810 2014-01-16         1    1\n",
      "3    2276 2011-12-08         0    0\n",
      "4     759 2010-12-09         0    0\n",
      "5    1641 2010-09-23         0    0\n",
      "6     170 2011-08-10         0    0\n",
      "7     917 2014-01-27         0    0\n",
      "8     714 2014-01-02         0    0\n",
      "9    2343 2014-05-02         0    0\n",
      "10   2972 2013-08-28         0    0\n",
      "11   2975 2013-10-14         0    0\n",
      "12   3437 2010-12-14         0    0\n",
      "13   2386 2010-02-24         0    0\n",
      "14   1283 2010-07-09         0    0\n",
      "15    785 2010-11-11         0    0\n",
      "16   2866 2014-02-03         0    0\n",
      "17    661 2010-03-29         0    0\n",
      "18   1874 2010-03-24         0    0\n",
      "19   2367 2011-10-28         0    0\n",
      "20   1682 2013-08-29         0    0\n",
      "21   3241 2010-04-05         1    1\n",
      "22   1944 2013-05-07         1    1\n",
      "23   2296 2011-10-17         0    0\n",
      "24   3236 2010-10-14         0    0\n",
      "25   1669 2010-01-27         0    0\n",
      "26   2191 2011-04-11         0    0\n",
      "27    355 2010-12-10         0    0\n",
      "28   1892 2013-10-15         1    1\n",
      "29   2072 2010-10-26         0    0\n",
      "..    ...        ...       ...  ...\n",
      "282    72 2012-11-10         0    0\n",
      "283  3281 2014-12-03         0    0\n",
      "284  1206 2011-02-01         0    0\n",
      "285  2005 2014-09-10         1    1\n",
      "286  3295 2011-06-22         0    0\n",
      "287  3004 2015-06-01         0    0\n",
      "288  3499 2011-06-21         0    0\n",
      "289  3091 2013-03-01         0    0\n",
      "290  2565 2014-01-02         0    0\n",
      "291   409 2014-12-10         0    0\n",
      "292  1614 2013-04-01         1    1\n",
      "293  3142 2010-09-16         0    0\n",
      "294   372 2012-02-23         0    0\n",
      "295  1125 2013-04-19         0    0\n",
      "296   337 2013-04-22         0    0\n",
      "297  1786 2012-11-12         1    1\n",
      "298  2926 2013-09-11         0    0\n",
      "299  1629 2015-03-02         0    0\n",
      "300   687 2013-11-06         0    0\n",
      "301  1038 2010-10-28         0    0\n",
      "302  1716 2014-04-02         0    0\n",
      "303  3027 2010-01-28         0    0\n",
      "304  3405 2011-12-28         0    0\n",
      "305  2594 2011-01-06         0    0\n",
      "306  2634 2012-08-16         1    1\n",
      "307  3090 2015-05-18         0    0\n",
      "308  3364 2013-04-29         1    1\n",
      "309  2622 2012-11-08         1    1\n",
      "310   623 2011-06-29         0    0\n",
      "311  1441 2014-10-31         0    0\n",
      "\n",
      "[312 rows x 4 columns]\n"
     ]
    }
   ],
   "source": [
    "import itertools\n",
    "\n",
    "def convert(t):\n",
    "    if t:\n",
    "        return 1\n",
    "    else:\n",
    "        return 0\n",
    "\n",
    "facet = \"federal consent decree\"\n",
    "alias = [pub_index[a] for a in aliases[facet]]\n",
    "facet_dates = set([i for i in set([i for i in itertools.chain(*alias)]).union(pub_index[facet])])\n",
    "tmp = [p in facet_dates for p in q_pubdates]\n",
    "gus = [int(p) for p in gus]\n",
    "df[\"gus\"] = gus\n",
    "print df\n",
    "# df.columns=[\"pd\", \"landrieu\" \"gusman\"]\n",
    "# df.reindex()\n",
    "# df = df.groupby([df['pd'].map(lambda x: x.year), df[\"landrieu\"]]).sum() #, df['gusman'].map(lambda x: 1 if x else 0)]).sum()\n",
    "# print df\n",
    "#print df['gusman']\n",
    "# print df # df.apply\n",
    "#df.columns=[\"pd\", \"gusman\"]\n",
    "#df.groupby([pd.Grouper(lambda x: df['pd'][x].year), \"gusman\"]).sum()\n",
    "# print df"
   ]
  }
 ],
 "metadata": {
  "kernelspec": {
   "display_name": "Python 2",
   "language": "python",
   "name": "python2"
  },
  "language_info": {
   "codemirror_mode": {
    "name": "ipython",
    "version": 2
   },
   "file_extension": ".py",
   "mimetype": "text/x-python",
   "name": "python",
   "nbconvert_exporter": "python",
   "pygments_lexer": "ipython2",
   "version": "2.7.10"
  }
 },
 "nbformat": 4,
 "nbformat_minor": 0
}
