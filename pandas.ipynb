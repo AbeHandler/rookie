{
 "cells": [
  {
   "cell_type": "code",
   "execution_count": 10,
   "metadata": {
    "collapsed": false,
    "scrolled": true
   },
   "outputs": [
    {
     "name": "stderr",
     "output_type": "stream",
     "text": [
      "DEBUG:experiment:got facets. time to filter\n"
     ]
    }
   ],
   "source": [
    "%matplotlib inline\n",
    "import pandas as pd\n",
    "import datetime as dt\n",
    "import random\n",
    "import pdb\n",
    "from dateutil.parser import parse\n",
    "from experiment.models import Models, Parameters\n",
    "from experiment.models import get_metadata_file, get_pubdate_index\n",
    "\n",
    "mt = get_metadata_file()\n",
    "p = Parameters()\n",
    "p.q = \"Mitch Landrieu\"\n",
    "\n",
    "results = Models.get_results(p)\n",
    "facets, aliases = Models.get_facets(p, results)\n",
    "\n",
    "df = pd.DataFrame()\n",
    "df['id'] = results\n",
    "metadata = [mt[r] for r in results]\n",
    "\n",
    "def facet_occurs(metadata, facet, aliases):\n",
    "    '''\n",
    "    Does the facet or any of its aliases show up\n",
    "    in the metadata for one document?\n",
    "    '''\n",
    "    all_names = [unicode(facet)] + aliases\n",
    "    output = []\n",
    "    for key in [u'people', u'ngram', u'org']:\n",
    "        for name in all_names:\n",
    "            if name in metadata[key]:\n",
    "                output.append(metadata['pubdate'])\n",
    "    return output\n",
    "\n",
    "#print dt.datetime(random.randint(2010,2015),random.randint(1,12),random.randint(1,28))\n",
    "#df = pd.DataFrame([[dt.datetime(random.randint(2010,2015),random.randint(1,12),random.randint(1,28)), random.choice(\"abc\"), 1] for _ in range(5)], columns=[\"date\", \"cat\", \"value\"])\n",
    "#df = df.groupby([df[\"cat\"], lambda x: df['date'][x].year]).size()\n",
    "# df = df.groupby(lambda x: df['date'][x].year).sum()\n",
    "# df = df.groupby([\"cat\", pd.Grouper(freq='1y',key='date')]).sum()\n",
    "\n",
    "# print df"
   ]
  },
  {
   "cell_type": "code",
   "execution_count": 147,
   "metadata": {
    "collapsed": false
   },
   "outputs": [
    {
     "name": "stdout",
     "output_type": "stream",
     "text": [
      "      value\n",
      "2010    181\n",
      "2011    160\n",
      "2012    169\n",
      "2013    158\n",
      "2014    162\n",
      "2015    170\n"
     ]
    }
   ],
   "source": [
    "def get_rando():\n",
    "    return random.choice([\"mitch\", \"marlin\"])\n",
    "\n",
    "df = pd.DataFrame([[dt.datetime(random.randint(2010,2015),random.randint(1,12),random.randint(1,28)), get_rando(), 1] for _ in range(1000)], columns=[\"date\", \"cat\", \"value\"])\n",
    "df = df.groupby([pd.Grouper(freq='1m',key='date'), \"cat\"]).sum()\n",
    "df = df.reset_index()\n",
    "df_summaries = df.groupby(lambda x: df['date'][x].year).sum()\n",
    "print df_summaries\n",
    "\n",
    "# print df"
   ]
  },
  {
   "cell_type": "code",
   "execution_count": 3,
   "metadata": {
    "collapsed": false
   },
   "outputs": [],
   "source": [
    "pub_index = get_pubdate_index()"
   ]
  },
  {
   "cell_type": "code",
   "execution_count": 5,
   "metadata": {
    "collapsed": false
   },
   "outputs": [
    {
     "data": {
      "text/plain": [
       "set"
      ]
     },
     "execution_count": 5,
     "metadata": {},
     "output_type": "execute_result"
    }
   ],
   "source": [
    "pub_index[\"Mitch Landrieu\"]"
   ]
  },
  {
   "cell_type": "code",
   "execution_count": 40,
   "metadata": {
    "collapsed": false
   },
   "outputs": [
    {
     "ename": "TypeError",
     "evalue": "unhashable type: 'set'",
     "output_type": "error",
     "traceback": [
      "\u001b[0;31m---------------------------------------------------------------------------\u001b[0m",
      "\u001b[0;31mTypeError\u001b[0m                                 Traceback (most recent call last)",
      "\u001b[0;32m<ipython-input-40-339bc6491c02>\u001b[0m in \u001b[0;36m<module>\u001b[0;34m()\u001b[0m\n\u001b[1;32m      1\u001b[0m \u001b[0mmetadata\u001b[0m \u001b[0;34m=\u001b[0m \u001b[0;34m[\u001b[0m\u001b[0mparse\u001b[0m\u001b[0;34m(\u001b[0m\u001b[0mmt\u001b[0m\u001b[0;34m[\u001b[0m\u001b[0mr\u001b[0m\u001b[0;34m]\u001b[0m\u001b[0;34m[\u001b[0m\u001b[0;34m\"pubdate\"\u001b[0m\u001b[0;34m]\u001b[0m\u001b[0;34m)\u001b[0m \u001b[0;32mfor\u001b[0m \u001b[0mr\u001b[0m \u001b[0;32min\u001b[0m \u001b[0mresults\u001b[0m\u001b[0;34m]\u001b[0m\u001b[0;34m\u001b[0m\u001b[0m\n\u001b[1;32m      2\u001b[0m \u001b[0mdf\u001b[0m \u001b[0;34m=\u001b[0m \u001b[0mpd\u001b[0m\u001b[0;34m.\u001b[0m\u001b[0mDataFrame\u001b[0m\u001b[0;34m(\u001b[0m\u001b[0;34m[\u001b[0m\u001b[0mi\u001b[0m \u001b[0;32mfor\u001b[0m \u001b[0mi\u001b[0m \u001b[0;32min\u001b[0m \u001b[0mmetadata\u001b[0m\u001b[0;34m]\u001b[0m\u001b[0;34m)\u001b[0m\u001b[0;34m\u001b[0m\u001b[0m\n\u001b[0;32m----> 3\u001b[0;31m \u001b[0malias\u001b[0m \u001b[0;34m=\u001b[0m \u001b[0mset\u001b[0m\u001b[0;34m(\u001b[0m\u001b[0;34m[\u001b[0m\u001b[0mpub_index\u001b[0m\u001b[0;34m[\u001b[0m\u001b[0ma\u001b[0m\u001b[0;34m]\u001b[0m \u001b[0;32mfor\u001b[0m \u001b[0ma\u001b[0m \u001b[0;32min\u001b[0m \u001b[0maliases\u001b[0m\u001b[0;34m[\u001b[0m\u001b[0;34m\"Marlin Gusman\"\u001b[0m\u001b[0;34m]\u001b[0m\u001b[0;34m]\u001b[0m\u001b[0;34m)\u001b[0m\u001b[0;34m\u001b[0m\u001b[0m\n\u001b[0m\u001b[1;32m      4\u001b[0m \u001b[0mmain\u001b[0m \u001b[0;34m=\u001b[0m  \u001b[0mset\u001b[0m\u001b[0;34m(\u001b[0m\u001b[0mpub_index\u001b[0m\u001b[0;34m[\u001b[0m\u001b[0;34m\"Marlin Gusman\"\u001b[0m\u001b[0;34m]\u001b[0m\u001b[0;34m)\u001b[0m\u001b[0;34m\u001b[0m\u001b[0m\n\u001b[1;32m      5\u001b[0m \u001b[0;34m\u001b[0m\u001b[0m\n",
      "\u001b[0;31mTypeError\u001b[0m: unhashable type: 'set'"
     ]
    }
   ],
   "source": [
    "metadata = [parse(mt[r][\"pubdate\"]) for r in results]\n",
    "df = pd.DataFrame([i for i in metadata])\n",
    "alias = set([pub_index[a] for a in aliases[\"Marlin Gusman\"]])\n",
    "main =  set(pub_index[\"Marlin Gusman\"])\n",
    "\n",
    "\n",
    "df[\"Gusman\"] = [m in pub_index[\"Marlin Gusman\"] for m in main.union(alias)]"
   ]
  },
  {
   "cell_type": "code",
   "execution_count": null,
   "metadata": {
    "collapsed": true
   },
   "outputs": [],
   "source": []
  }
 ],
 "metadata": {
  "kernelspec": {
   "display_name": "Python 2",
   "language": "python",
   "name": "python2"
  },
  "language_info": {
   "codemirror_mode": {
    "name": "ipython",
    "version": 2
   },
   "file_extension": ".py",
   "mimetype": "text/x-python",
   "name": "python",
   "nbconvert_exporter": "python",
   "pygments_lexer": "ipython2",
   "version": "2.7.10"
  }
 },
 "nbformat": 4,
 "nbformat_minor": 0
}
