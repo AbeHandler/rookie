{
 "cells": [
  {
   "cell_type": "code",
   "execution_count": 2,
   "metadata": {
    "collapsed": false,
    "scrolled": false
   },
   "outputs": [
    {
     "name": "stderr",
     "output_type": "stream",
     "text": [
      "DEBUG:experiment:got facets. time to filter\n"
     ]
    },
    {
     "name": "stdout",
     "output_type": "stream",
     "text": [
      "getting results took -1.55303788185\n",
      "facets took -1.67511987686\n",
      "dataframe took -0.00319695472717\n",
      "None\n",
      "None\n",
      "None\n",
      "pd\n",
      "2010    84\n",
      "2011    58\n",
      "2012    26\n",
      "2013    62\n",
      "2014    65\n",
      "2015    17\n",
      "dtype: int64\n",
      "[['Department of Justice', 12, 6, 7, 20, 4, 0], ['Marlin Gusman', 31, 23, 8, 20, 15, 1], ['Orleans Parish Sheriffs Office', 5, 14, 4, 17, 8, 2]]\n"
     ]
    }
   ],
   "source": [
    "%matplotlib inline\n",
    "\n",
    "import seaborn as sns\n",
    "import pandas as pd\n",
    "import datetime as dt\n",
    "import random\n",
    "import itertools\n",
    "import pdb\n",
    "import ipdb\n",
    "import time\n",
    "from dateutil.parser import parse\n",
    "from experiment.models import Models, Parameters\n",
    "from experiment.models import get_metadata_file, get_pubdate_index\n",
    "\n",
    "mt = get_metadata_file()\n",
    "p = Parameters()\n",
    "p.q = \"Mitch Landrieu\"\n",
    "\n",
    "start_time = time.time()\n",
    "results = Models.get_results(p)\n",
    "print \"getting results took {}\".format(start_time - time.time())\n",
    "\n",
    "start_time = time.time()\n",
    "facets, aliases = Models.get_facets(p, results, 3)\n",
    "print \"facets took {}\".format(start_time - time.time())\n",
    "\n",
    "metadata = [mt[r] for r in results]\n",
    "q_pubdates = [parse(h[\"pubdate\"]) for h in metadata]\n",
    "\n",
    "def make_dataframe(p, facets, results):\n",
    "    start_time = time.time()\n",
    "    df = pd.DataFrame()\n",
    "    df['id'] = results\n",
    "    df['pd'] = q_pubdates\n",
    "    df[p.q] = [1 for i in q_pubdates]\n",
    "    for facet in facets:\n",
    "        alias = [pub_index[a] for a in aliases[facet]]\n",
    "        facet_dates = set([i for i in set([i for i in itertools.chain(*alias)]).union(pub_index[facet])])\n",
    "        gus = [int(p) for p in [p in facet_dates for p in q_pubdates]]\n",
    "        df[facet] = gus\n",
    "    print \"dataframe took {}\".format(start_time - time.time())\n",
    "    return df\n",
    "\n",
    "df = make_dataframe(p, facets, results)\n",
    "df = df.groupby([df['pd'].map(lambda x: x.year)]).sum().unstack(0).fillna(0)\n",
    "\n",
    "facet_datas = []\n",
    "for f in facets:\n",
    "    print facet_datas.append([str(f)] + list(df[f]))\n",
    "print df[p.q]\n",
    "    \n",
    "print facet_datas"
   ]
  },
  {
   "cell_type": "code",
   "execution_count": 1,
   "metadata": {
    "collapsed": false
   },
   "outputs": [
    {
     "name": "stdout",
     "output_type": "stream",
     "text": [
      "loading pubdate index\n",
      "built index\n"
     ]
    }
   ],
   "source": [
    "from experiment.models import get_metadata_file, get_pubdate_index\n",
    "pub_index = get_pubdate_index()"
   ]
  },
  {
   "cell_type": "code",
   "execution_count": null,
   "metadata": {
    "collapsed": true
   },
   "outputs": [],
   "source": []
  }
 ],
 "metadata": {
  "kernelspec": {
   "display_name": "Python 2",
   "language": "python",
   "name": "python2"
  },
  "language_info": {
   "codemirror_mode": {
    "name": "ipython",
    "version": 2
   },
   "file_extension": ".py",
   "mimetype": "text/x-python",
   "name": "python",
   "nbconvert_exporter": "python",
   "pygments_lexer": "ipython2",
   "version": "2.7.10"
  }
 },
 "nbformat": 4,
 "nbformat_minor": 0
}
