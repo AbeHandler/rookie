{
 "cells": [
  {
   "cell_type": "code",
   "execution_count": 48,
   "metadata": {
    "collapsed": true
   },
   "outputs": [],
   "source": [
    "from sqlalchemy import create_engine\n",
    "from sqlalchemy.orm import sessionmaker\n",
    "from sqlalchemy import desc\n",
    "from webapp import CONNECTION_STRING\n",
    "\n",
    "ENGINE = create_engine(CONNECTION_STRING)\n",
    "SESS = sessionmaker(bind=ENGINE)\n",
    "SESSION = SESS()\n"
   ]
  },
  {
   "cell_type": "markdown",
   "metadata": {},
   "source": [
    "Trying to figure out why loading sentences takes so long"
   ]
  },
  {
   "cell_type": "code",
   "execution_count": 52,
   "metadata": {
    "collapsed": false
   },
   "outputs": [],
   "source": [
    "def test_seek_and_deserialize():\n",
    "    docid = 14740\n",
    "    corpusid = 2\n",
    "    row = SESSION.connection().execute(\"select delmited_sentences from sentences_preproc where docid=%s and corpusid=%s\", docid, corpusid).fetchone() \n",
    "    return row[0]\n",
    "\n",
    "def test_seek():\n",
    "    docid = 14740\n",
    "    corpusid = 2\n",
    "    row = SESSION.connection().execute(\"select count(*) from sentences_preproc where docid=%s and corpusid=%s\", docid, corpusid).fetchone() \n",
    "    return row[0]"
   ]
  },
  {
   "cell_type": "code",
   "execution_count": 63,
   "metadata": {
    "collapsed": false
   },
   "outputs": [
    {
     "name": "stdout",
     "output_type": "stream",
     "text": [
      "100 loops, best of 3: 275 µs per loop\n",
      "100 loops, best of 3: 166 µs per loop\n"
     ]
    }
   ],
   "source": [
    "%timeit -n 100 test_seek_and_deserialize()\n",
    "%timeit -n 100 test_seek()"
   ]
  },
  {
   "cell_type": "markdown",
   "metadata": {},
   "source": [
    "Fetching one row from PG seems to take 531 micro seconds (aka 1/2 a millisecond). This number matches the postgres timing check too."
   ]
  },
  {
   "cell_type": "code",
   "execution_count": null,
   "metadata": {
    "collapsed": true
   },
   "outputs": [],
   "source": []
  }
 ],
 "metadata": {
  "kernelspec": {
   "display_name": "Python 2",
   "language": "python",
   "name": "python2"
  },
  "language_info": {
   "codemirror_mode": {
    "name": "ipython",
    "version": 2
   },
   "file_extension": ".py",
   "mimetype": "text/x-python",
   "name": "python",
   "nbconvert_exporter": "python",
   "pygments_lexer": "ipython2",
   "version": "2.7.10"
  }
 },
 "nbformat": 4,
 "nbformat_minor": 0
}
