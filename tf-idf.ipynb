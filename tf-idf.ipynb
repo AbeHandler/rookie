{
 "cells": [
  {
   "cell_type": "code",
   "execution_count": 65,
   "metadata": {
    "collapsed": false
   },
   "outputs": [],
   "source": [
    "# Simple search enginge straight from the GenSim tutorials\n",
    "import json\n",
    "import glob\n",
    "from gensim import corpora, models, similarities\n",
    "\n",
    "\n",
    "class Story:\n",
    "    def __init__(self, docid, headline, text, links):\n",
    "        self.docid = docid\n",
    "        self.text = text\n",
    "        self.headline = headline\n",
    "        self.links = links\n",
    "\n",
    "        \n",
    "def get_documents(corpus_loc):\n",
    "    docid = 0\n",
    "    files = glob.glob(corpus_loc + \"*json\")\n",
    "    output = []\n",
    "    for filename in files:\n",
    "        with open(filename) as f:\n",
    "            for line in f:\n",
    "                full_text = json.loads(line)['full_text']\n",
    "                headline = json.loads(line)['headline']\n",
    "                links = json.loads(line)['links']\n",
    "                output.append(Story(docid, headline, full_text, links))\n",
    "                docid = docid + 1\n",
    "    return output\n",
    "\n",
    "documents = get_documents(\"/Volumes/bigone/lens_corpus/files/\")"
   ]
  },
  {
   "cell_type": "code",
   "execution_count": 66,
   "metadata": {
    "collapsed": false
   },
   "outputs": [],
   "source": [
    "from pprint import pprint   # pretty-printer\n",
    "\n",
    "stoplist = set('for a of the and to in'.split())\n",
    "texts = [[word for word in document.text.lower().split() if word not in stoplist]\n",
    "         for document in documents]\n",
    "\n",
    "# remove words that -appear only once\n",
    "from collections import defaultdict\n",
    "frequency = defaultdict(int)\n",
    "for text in texts:\n",
    "    for token in text:\n",
    "        frequency[token] += 1\n",
    "texts = [[token for token in text if frequency[token] > 1] for text in texts]\n",
    "\n",
    "dictionary = corpora.Dictionary(texts)\n",
    "dictionary.save('/tmp/lens.dict')\n",
    "\n",
    "corpus = [dictionary.doc2bow(text) for text in texts]\n",
    "corpora.MmCorpus.serialize('/tmp/lens.mm', corpus) # store to disk, for later use"
   ]
  },
  {
   "cell_type": "code",
   "execution_count": 70,
   "metadata": {
    "collapsed": false
   },
   "outputs": [
    {
     "name": "stderr",
     "output_type": "stream",
     "text": [
      "WARNING:gensim.similarities.docsim:scanning corpus to determine the number of features (consider setting `num_features` explicitly)\n"
     ]
    },
    {
     "name": "stdout",
     "output_type": "stream",
     "text": [
      "(2911, 0.26134795)\n",
      "2911\n",
      "Orleans school board must agree on direction before hiring a superintendent\n",
      "(3006, 0.25180304)\n",
      "3006\n",
      "Orleans Parish School Board narrows superintendent search to two finalists\n",
      "(2332, 0.25106037)\n",
      "2332\n",
      "KIPP leadership to vote on returning to Orleans school board\n",
      "(2915, 0.2210699)\n",
      "2915\n",
      "Ugliness in New Orleans school board meetings deters superintendent candidates\n",
      "(2925, 0.21933365)\n",
      "2925\n",
      "School board needs clear direction, not superintendent who will tolerate ambiguity\n",
      "(2920, 0.21889541)\n",
      "2920\n",
      "Complex education system requires that Orleans Parish School Board finds the right superintendent\n",
      "(2379, 0.21759659)\n",
      "2379\n",
      "Vote tonight, but little support for moving Collegiate Academies to parish control\n",
      "(2912, 0.21721315)\n",
      "2912\n",
      "School board should look for opportunity in upcoming court ruling on post-Katrina teacher layoffs\n",
      "(2148, 0.21390912)\n",
      "2148\n",
      "Contrary to critics’ claims, administrative staffing at OPSB has dropped along with enrollment\n",
      "(2360, 0.20800714)\n",
      "2360\n",
      "Morris Jeff staying under Recovery School District governance\n"
     ]
    }
   ],
   "source": [
    "lsi = models.LsiModel(corpus, id2word=dictionary, num_topics=200)\n",
    "doc = \"OPSB\"\n",
    "vec_bow = dictionary.doc2bow(doc.lower().split())\n",
    "vec_lsi = lsi[vec_bow] # convert the query to LSI space\n",
    "index = similarities.MatrixSimilarity(lsi[corpus]) # transform corpus to LSI space and index it\n",
    "index.save('/tmp/lens.index')\n",
    "index = similarities.MatrixSimilarity.load('/tmp/lens.index')\n",
    "sims = index[vec_lsi] # perform a similarity query against the corpus\n",
    "sims = sorted(enumerate(sims), key=lambda item: -item[1])\n",
    "\n",
    "sims = sims[0:10]\n",
    "\n",
    "for s in sims:\n",
    "    print s\n",
    "    dcd = s[0]\n",
    "    print dcd\n",
    "    print [d for d in documents if d.docid==dcd][0].headline"
   ]
  },
  {
   "cell_type": "code",
   "execution_count": null,
   "metadata": {
    "collapsed": true
   },
   "outputs": [],
   "source": []
  }
 ],
 "metadata": {
  "kernelspec": {
   "display_name": "Python 2",
   "language": "python",
   "name": "python2"
  },
  "language_info": {
   "codemirror_mode": {
    "name": "ipython",
    "version": 2
   },
   "file_extension": ".py",
   "mimetype": "text/x-python",
   "name": "python",
   "nbconvert_exporter": "python",
   "pygments_lexer": "ipython2",
   "version": "2.7.8"
  }
 },
 "nbformat": 4,
 "nbformat_minor": 0
}
