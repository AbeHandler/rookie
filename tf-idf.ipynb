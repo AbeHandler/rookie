{
 "cells": [
  {
   "cell_type": "code",
   "execution_count": 12,
   "metadata": {
    "collapsed": false
   },
   "outputs": [],
   "source": [
    "# Simple search enginge straight from the GenSim tutorials\n",
    "import json\n",
    "import glob\n",
    "from gensim import corpora, models, similarities\n",
    "\n",
    "def get_documents(corpus_loc):\n",
    "    files = glob.glob(corpus_loc + \"*json\")\n",
    "    output = []\n",
    "    for filename in files:\n",
    "        with open(filename) as f:\n",
    "            for line in f:\n",
    "                output.append(json.loads(line)['full_text'])\n",
    "    return output\n",
    "\n",
    "documents = get_documents(\"/Volumes/bigone/lens_corpus/files/\")"
   ]
  },
  {
   "cell_type": "code",
   "execution_count": 13,
   "metadata": {
    "collapsed": false
   },
   "outputs": [],
   "source": [
    "from pprint import pprint   # pretty-printer\n",
    "\n",
    "stoplist = set('for a of the and to in'.split())\n",
    "texts = [[word for word in document.lower().split() if word not in stoplist]\n",
    "         for document in documents]\n",
    "\n",
    "# remove words that appear only once\n",
    "from collections import defaultdict\n",
    "frequency = defaultdict(int)\n",
    "for text in texts:\n",
    "    for token in text:\n",
    "        frequency[token] += 1\n",
    "texts = [[token for token in text if frequency[token] > 1] for text in texts]\n",
    "\n",
    "dictionary = corpora.Dictionary(texts)\n",
    "dictionary.save('/tmp/deerwester.dict')\n",
    "\n",
    "new_doc = \"Human computer interaction\"\n",
    "new_vec = dictionary.doc2bow(new_doc.lower().split())\n",
    "\n",
    "corpus = [dictionary.doc2bow(text) for text in texts]\n",
    "corpora.MmCorpus.serialize('/tmp/deerwester.mm', corpus) # store to disk, for later use"
   ]
  },
  {
   "cell_type": "code",
   "execution_count": null,
   "metadata": {
    "collapsed": false
   },
   "outputs": [],
   "source": [
    "lsi = models.LsiModel(corpus, id2word=dictionary, num_topics=2)\n",
    "doc = \"OPSB transportation\"\n",
    "vec_bow = dictionary.doc2bow(doc.lower().split())\n",
    "vec_lsi = lsi[vec_bow] # convert the query to LSI space\n",
    "index = similarities.MatrixSimilarity(lsi[corpus]) # transform corpus to LSI space and index it\n",
    "index.save('/tmp/deerwester.index')\n",
    "index = similarities.MatrixSimilarity.load('/tmp/deerwester.index')\n",
    "sims = index[vec_lsi] # perform a similarity query against the corpus\n",
    "sims = sorted(enumerate(sims), key=lambda item: -item[1])"
   ]
  },
  {
   "cell_type": "code",
   "execution_count": 17,
   "metadata": {
    "collapsed": false
   },
   "outputs": [
    {
     "name": "stdout",
     "output_type": "stream",
     "text": [
      "\n",
      "None of the four Recovery School District charter school boards that met Tuesday evening chose to transfer their academically improved schools to the control of the Orleans Parish School Board, with two putting the decision off another month.\n",
      "The boards that oversee Mary D. Coghill Charter School and McDonogh City Park Academy voted outright to keep their schools under the Recovery district. The boards that govern Morris Jeff Community School and Fannie C. Williams Charter School delayed the decision until December. Schools have until Jan. 5 to decide.\n",
      "Twenty charter school boards will have to make this decision by then, and they oversee 36 schools that are eligible to transfer to the control of the School Board.\n",
      "In the four years since the first charter became eligible, no board has ever voted to transfer its school back to the auspices of the School Board  but this year one came close.\n",
      "The New Beginnings Schools Foundation, in a rushed, confusing series of votes, approved a motion to transfer its high school with a 3-2 vote. But a late vote from Vice Chairwoman Sheila Danzey at the urging of her colleagues resulted in what the board is calling a 3-3 tie. The board then decided to take up the matter at its December meeting.\n",
      "New Beginnings chartered one of the first Recovery District School in New Orleans. In 2005, the year following New Beginnings takeover of Pierre Capdau school, the RSD took control of more than 100 schools in New Orleans.\n",
      "That was under the public presumption that those failing schools would one day return to the local school district. But no school has moved back, in part because schools are not automatically transferred back to the control of the local school board when their academic standing improves. Charter school boards get to make that decision themselves.\n",
      "If a charter board decides to transfer to the School Boards oversight, the general operations of the school  such as curriculum decisions, hiring staff, and setting the school calendar  would still be controlled by the school administration. The charter answers to the oversight agency, in this case RSD or Orleans Parish School board, for things such as overall academic performance and financial management which factor into a charters renewal.\n",
      "On Tuesday night, Coghill Charter Schools board had a passionate discussion regarding the potential switch.\n",
      "Board President Keith Barney told Orleans Parish School Board staff he was concerned with the districts inability to hire a superintendent. The district has been led by Interim Superintendent Stan Smith for more than two years.\n",
      "Deputy Superintendent for Charter Schools Kathleen Padian gave a brief presentation and fielded the boards questions. In regards to superintendent concerns, Padian said she answers directly to the board, not the superintendent.\n",
      "Barney said the elected members have displayed some bad behavior. At times acting the exact opposite of how the school teaches its children to behave.\n",
      "Members asked Padian why the School Board member that represents Coghills district was not present to make a pitch. Member Cynthia Cade represents the district Coghill is in, though the board didnt call her out by name. Cade did not immediately return a call for comment Wednesday morning.\n",
      "Padian pointed out that the officials elected to represent the New Orleans area on the state Board of Elementary and Secondary Education, which created the RSD, were not present either. BESE member Kira Orange-Jones represents a large portion of New Orleans. Members James Garvey and Lottie Beebe also represent portions of New Orleans. The Recovery School District does send a representative capable of answering questions to some of these meetings, though none was announced at Coghills meeting.\n",
      "After more discussion the board then voted on whether to remain with the RSD or transfer to the School Board.\n",
      "Remain.\n",
      "Remain.\n",
      "Remain.\n",
      "Down the line, the board voted unanimously to stick with the RSD, with two members abstaining without explanation.\n",
      "McDonogh City Park Academys board voted unanimously to keep the school in the Recovery district. The schools board has decided to join the ReNEW Schools charter management organization next year. ReNEW runs six RSD charters and already voted to keep its eligible charters under the Recovery district next year.\n",
      "The consensus was that at this point it really didnt make sense for us to proceed with moving to the OPSB, given that our intent is to move forward with a partnership with ReNEW, member Jim Nelson said.\n",
      "In all, 10 boards with eligible schools have meetings scheduled this week.\n",
      "Choice Foundation, Collegiate Academies, Arise Academy and Crescent City Schools all have eligible schools and are slated to meet Wednesday.\n",
      "Boards that have elected to keep their schools in the Recovery School District so far include:\n",
      "\n",
      "Better Choice Foundation, 1 eligible school\n",
      "Firstline Schools, Inc., 4 eligible schools\n",
      "Friends of King Schools, 1 eligible school,\n",
      "New Orleans Charter Schools Foundation, 1 eligible school\n",
      "ReNEW Schools, 3 eligible schools\n",
      "\n",
      "The boards that oversee Fannie C. Williams, Morris Jeff Community School and New Beginnings have already met and voted to address the matter in December.\n",
      "\n",
      "\n",
      "\n",
      "Help us report this story\n",
      "\n",
      "\t\t\t\n",
      "\t\t\t\n",
      "Report an error\n",
      "\n",
      "\t\t\t\n",
      "\t\t\t\n",
      "\t\t\t\tThe Lens' donors and partners may be mentioned or have a stake in the stories we cover.\n",
      "\t\t\t\n",
      "\n",
      "\n"
     ]
    }
   ],
   "source": [
    "print documents[265]"
   ]
  },
  {
   "cell_type": "code",
   "execution_count": null,
   "metadata": {
    "collapsed": true
   },
   "outputs": [],
   "source": []
  }
 ],
 "metadata": {
  "kernelspec": {
   "display_name": "Python 2",
   "language": "python",
   "name": "python2"
  },
  "language_info": {
   "codemirror_mode": {
    "name": "ipython",
    "version": 2
   },
   "file_extension": ".py",
   "mimetype": "text/x-python",
   "name": "python",
   "nbconvert_exporter": "python",
   "pygments_lexer": "ipython2",
   "version": "2.7.8"
  }
 },
 "nbformat": 4,
 "nbformat_minor": 0
}
